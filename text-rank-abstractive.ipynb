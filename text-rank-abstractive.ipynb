{
 "cells": [
  {
   "cell_type": "markdown",
   "metadata": {},
   "source": [
    "# Preprocessing a petition"
   ]
  },
  {
   "cell_type": "markdown",
   "metadata": {},
   "source": [
    "<h2> 1. Handling doc file</h2><br>\n",
    "Data is in \".doc\" format so we would need something that can extract text from \".doc\" in python\n",
    "\n",
    "<b>dependency needed</b> : python-docx 0.8.9 <br>\n",
    "<b>installation</b>: `pip install python-docx`<br><br>\n",
    "\n",
    "<b>Note:</b> Files with \".doc\" wont work you have to use \".docx\""
   ]
  },
  {
   "cell_type": "code",
   "execution_count": 1,
   "metadata": {},
   "outputs": [],
   "source": [
    "filename = \"raw_data/n_thakur_petition.docx\""
   ]
  },
  {
   "cell_type": "code",
   "execution_count": 2,
   "metadata": {},
   "outputs": [],
   "source": [
    "#function to get text from a doc file\n",
    "\n",
    "import docx\n",
    "def getText(filename):\n",
    "    doc = docx.Document(filename)\n",
    "    fullText = []\n",
    "    for para in doc.paragraphs:\n",
    "        fullText.append(para.text)\n",
    "    return '\\n'.join(fullText)"
   ]
  },
  {
   "cell_type": "code",
   "execution_count": 3,
   "metadata": {},
   "outputs": [],
   "source": [
    "# incase we want to extract text from table\n",
    "# but i guess it's just a index only\n",
    "# it dosn't contain any imp info\n",
    "# though it has a chronological context with data\n",
    "\n",
    "# function that returns data of nth table in doc\n",
    "\n",
    "def getTable(filename, n =0):\n",
    "    from docx.api import Document\n",
    "\n",
    "    document = Document(filename)\n",
    "    table = document.tables[n]\n",
    "\n",
    "    data = []\n",
    "\n",
    "    keys = None\n",
    "    for i, row in enumerate(table.rows):\n",
    "        text = (cell.text for cell in row.cells)\n",
    "\n",
    "        if i == 0:\n",
    "            keys = tuple(text)\n",
    "            continue\n",
    "        row_data = dict(zip(keys, text))\n",
    "        data.append(row_data)\n",
    "    print(data)"
   ]
  },
  {
   "cell_type": "code",
   "execution_count": 4,
   "metadata": {},
   "outputs": [],
   "source": [
    "raw_text = getText(filename)"
   ]
  },
  {
   "cell_type": "markdown",
   "metadata": {},
   "source": [
    "<h2>2. Cleaning corpus</h2> <br>\n",
    "\n",
    "<b>dependency needed: </b> spacy<br>\n",
    "<b>installation: </b> <br>\n",
    "`pip install spacy`<br>\n",
    "`python -m spacy download en_core_web_sm`\n"
   ]
  },
  {
   "cell_type": "code",
   "execution_count": 5,
   "metadata": {},
   "outputs": [],
   "source": [
    "import spacy\n",
    "#import en_core_web_sm\n",
    "nlp = spacy.load(\"en_core_web_sm\")"
   ]
  },
  {
   "cell_type": "code",
   "execution_count": 6,
   "metadata": {},
   "outputs": [],
   "source": [
    "paras = [i.replace('\\t',' ') for i in raw_text.split('\\n') if i!='']"
   ]
  },
  {
   "cell_type": "code",
   "execution_count": 7,
   "metadata": {},
   "outputs": [],
   "source": [
    "inp_to_spacy = \" \".join(paras) # create string from paras list"
   ]
  },
  {
   "cell_type": "code",
   "execution_count": 8,
   "metadata": {},
   "outputs": [],
   "source": [
    "doc = nlp(inp_to_spacy) # a spacy doc object it has everything"
   ]
  },
  {
   "cell_type": "markdown",
   "metadata": {},
   "source": [
    "<h3>1. Sentence tokenization <h3>"
   ]
  },
  {
   "cell_type": "code",
   "execution_count": 9,
   "metadata": {},
   "outputs": [],
   "source": [
    "# getting sentences out of doc\n",
    "sentences = [sentence for idno, sentence in enumerate(doc.sents)]"
   ]
  },
  {
   "cell_type": "markdown",
   "metadata": {},
   "source": [
    "<h4> Note:</h4><br> we have a special character \"…\" in our data which was misunderstood by multiple occurences of \".\" it can be simply removed<br>\n",
    "<b>But</b> still we had some multiple periods which i removed using regex"
   ]
  },
  {
   "cell_type": "code",
   "execution_count": 10,
   "metadata": {},
   "outputs": [],
   "source": [
    "import re\n",
    "sentences = [re.sub(\"…\", \"\", str(sentence)) for sentence in sentences]\n",
    "\n",
    "# to remove 2 or more occurences of period (.) using regex\n",
    "sentences = [re.sub(\"[.][.]+\", \"\", str(sentence)) for sentence in sentences]"
   ]
  },
  {
   "cell_type": "code",
   "execution_count": 11,
   "metadata": {},
   "outputs": [],
   "source": [
    "# again we input the data in spacy\n",
    "\n",
    "input_to_spacy = \" \".join(sentences)\n",
    "doc = nlp(input_to_spacy)"
   ]
  },
  {
   "cell_type": "code",
   "execution_count": 12,
   "metadata": {},
   "outputs": [
    {
     "name": "stdout",
     "output_type": "stream",
     "text": [
      "IN THE COUERT OF DISTRICT JUDGE: DELHI.\n",
      "ELECTION PETITION\n",
      "No OF 2007.\n",
      "In Re:- Smt.\n",
      "Saroj Anand        .Petitioner\n",
      "Versus The Election Commissioner & Others.   .Respondents\n",
      "INDEX Delhi.\n",
      "Dated:         \n",
      "(K.M. DWIVEDI)              \n",
      "Advocate Counsel for the Petitioner IN THE COUERT OF DISTRICT JUDGE: DELHI.\n",
      "ELECTION PETITION\n",
      "No OF 2007.\n",
      "In Re:- Smt.\n",
      "Saroj Anand        .Petitioner\n",
      "Versus The Election Commissioner & Others.   .Respondents\n",
      "MEMO OF PARTIES Smt.\n",
      "Saroj Anand, R/o A-1/123, Second Floor, Sector-11, Rohini,  Delhi-110095.       \n",
      "Petitioner Versus 1.\n",
      "The Election Commissioner,  Delhi Election Commission,  Delhi.\n",
      "2.\n",
      "The Commissioner of Police,  Police Headquarters,  Indraprastha Estate,  New Delhi-110002.\n",
      "3.\n",
      "Smt.\n",
      "Nirmala Thakur, BJP,   R/o B-1/162 and 163,  Sector 17, Rohini,\n",
      "Delhi-85. 4.\n",
      "Smt.\n",
      "Chanda Rai,  R /o\n",
      "B-7/104, Sector 17,  Rohini, Delhi-85. 5.\n",
      "Smt.\n",
      "Sunita   R/o B-3/90-91,   Sector 16, Rohini,\n",
      "Delhi-85. 6.\n",
      "Smt.\n",
      "Geeta  R/o 148, Nimri Colony,  Ashok Vihar, Delhi-52. 7.\n",
      "Smt.\n",
      "Supriya Chaudhar,  H-2/91, Sector 16,   Rohini-85/ 8.\n",
      "Ms. Anita Jain,  R/o B-2/188, Sector 17,   Rohini, Delhi-85. 9.\n",
      "Ms. Pushpender Kaur,  R/o A-4/143, Sector 17,   Rohini, Delhi-85. 10.\n",
      "Ms. Santosh Bansal,  R /o\n",
      "A-8/44, Sector 17,   Rohini, Delhi-85. 11.\n",
      "Ms. Sneh Bala,  R /o\n",
      "D-3/13, Sector 11,  Rohini, Delhi-85. 12.\n",
      "Ms. Sushila,  R/o B-2/82, Sector 17,   Rohini, Delhi-85.                                   Respondents Delhi.\n",
      "Dated:           Petitioner     \n",
      "Through            \n",
      "(K.M. Dwivedi)            \n",
      "Advocate.\n",
      "IN THE COUERT OF DISTRICT JUDGE: DELHI.\n",
      "ELECTION PETITION\n",
      "No OF 2007.\n",
      "In Re:- Smt.\n",
      "Saroj Anand, R/o A-1/123, Second Floor, Sector-11, Rohini,  Delhi-110095.       \n",
      "Petitioner Versus 1.\n",
      "The Election Commissioner,  Delhi Election Commission,  Delhi.\n",
      "2.\n",
      "The Commissioner of Police,  Police Headquarters,  Indraprastha Estate,  New Delhi-110002.\n",
      "3.\n",
      "Smt.\n",
      "Nirmala Thakur, BJP,   R/o B-1/162 and 163,  Sector 17, Rohini,\n",
      "Delhi-85. 4.\n",
      "Smt.\n",
      "Chanda Rai,  R /o\n",
      "B-7/104, Sector 17,  Rohini, Delhi-85. 5.\n",
      "Smt.\n",
      "Sunita   R/o B-3/90-91,   Sector 16, Rohini,\n",
      "Delhi-85. 6.\n",
      "Smt.\n",
      "Geeta  R/o 148, Nimri Colony,  Ashok Vihar, Delhi-52. 7.\n",
      "Smt.\n",
      "Supriya Chaudhary,  H-2/91, Sector 16,   Rohini-85/ 8.\n",
      "Ms. Anita Jain,  R/o B-2/188, Sector 17,   Rohini, Delhi-85. 9.\n",
      "Ms. Pushpender Kaur,  R/o A-4/143, Sector 17,   Rohini, Delhi-85. 10.\n",
      "Ms. Santosh Bansal,  R /o\n",
      "A-8/44, Sector 17,   Rohini, Delhi-85. 11.\n",
      "Ms. Sneh Bala,  R /o\n",
      "D-3/13, Sector 11,  Rohini, Delhi-85. 12.\n",
      "Ms. Sushila,  R/o B-2/82, Sector 17,   Rohini,\n",
      "Delhi-85.                                    Respondents PETITION UNDER SECTION 15 OF THE DELHI MUNICIPAL CORPORATION ACT, READ WITH DELHI MUNICIPAL CORPORATION (ELECTION OF COUNCILLORS) RULES, 1958.\n",
      "Sir,  The petitioner most respectfully submits as under:-\n",
      "That the petitioner is a permanent resident of Delhi and her name is also included in the Electoral Roll, 2007.\n",
      "That Election for Municipal Councillors for  the Municipal Corporation of Delhi were declared to be held on 5th April, 2007.\n",
      "That the petitioner contested the election on the Ticket of Indian National Congress, party, the respondent No.3 contested her election on the B.J.P. Ticket, respondent No.4 contested election on the ticket of Bahujan Smajwadi Parti, the respondent No.5 contested election on the Ticket of National Congress Party, while remaining candidates contesting election on independent tickets.   \n",
      "Respondents No.4 to 12 are Performa respondents, and no relief is claimed against them.\n",
      "That on thoroughly going through the key-plan of the Pocket A-8, there are only 120 plots were carved by the Delhi Development, in Sector 16, Rohini, Delhi.   \n",
      "But in the Electoral Roll, 2007 for the Ward 21, 660 plots/ properties have been mentioned, each having 60 square meters area.   \n",
      "Thus, there have been shown over and above 540 plots.\n",
      "Further, in the same Sector, in Pockets C-4,  and C-5, 184 plots have been shown.   \n",
      "Besides this, in Pocket B-4, plot Nos.107 have been shown in the Electoral Roll, 2007.   \n",
      "The true fact are that there are no pocket C-4, C-5 and B-4 in the Sector No.16, Rohini, Delhi.\n",
      "831 more plots have shown in Sector 16.\n",
      "That on each plot, the structure is raised upto third floor, First Floor, Second Floor and Third Floor, which shows that there are 3324 properties/floors more have been shown in the total plots of 831, whereas the aforementioned plots/properties are not existing in the Pockets C-4, C-5 and E-4, Sector 16, Rohini, Delhi, and the same have falsely been mentioned in the list.\n",
      "That in furtherance malafide intention, in the aforementioned false properties numbering 3324, numerous false voters have also been shown, on whose behalf, base votes have been casted on the day of the election, i.e. 5.4.2007.\n",
      "That the petitioner, on several occasions, approached the defendant/respondent No.1 for checki9ng\n",
      "the activities of the activities of the respondent No.3, but it did not care for the requests of the petitioner and turned a deaf ear to her requests.   \n",
      "When the petitioner found that the respondent No.1 was not caring for the requests of petitioner, hence she submitted a written complaint dated 4.4.2007 with request for taking action against the respondent No.1 in pursuance of the provisions of law.   \n",
      "But the respondent did not care for the same.\n",
      "That on 16.4.2007, the petitioner further submit a complaint dated 16.4.2007 in pursuance of her complaint for conducting fair inquiry in the matter, against the respondent No.3.    \n",
      "It is submitted that the petitioner also submitted a letter dated 4.4.2008 to the respondent No.1 for the use of vehicles in the canvassing  with which the goods are transported, but the concerned officials did not care for the requests of the petitioner and the dumped her complaints for the reasons best known to the respondent\n",
      "No.1.   \n",
      "The vehicles used bear Nos.\n",
      "DL-1LH-4732 and Qualis\n",
      "No.DL-1VB-2176.\n",
      "That for the reasons mentioned above, the respondent No.3 has violated the directions/instructions circulated by the respondent No.1 openly for her ill-motive for which the respondent No.3 should be prosecuted and punished as per provisions of law, but the respondent Nos.\n",
      "1 and 2 did not care for the same and closed their eyes from the side of the respondent No.3.   \n",
      "Had the respondents No.1 and 2 vigilant and active for initiating a stern action against the respondent No.3, she would have not won the election at all.\n",
      "That the candidates of the election ere not allowed the advertisements of their the motor vehicles but the respondent No.3 freely used vehicle in her advertisement/publicity, without a hitch.\n",
      "That the respondent No.3 also opened her two publicity offices, whereas she should have to daily used one office for the said purpose, but she has not acted upon the directions.   \n",
      "The respondent No.3 caused several other irregularities.   \n",
      "That the respondent No.3 used two offices for publicity/canvassing the election for herself.   \n",
      "She also used more than two hordings of her photographs, which is clear from the photographs filed herewith.   \n",
      "The respondent used bigger hordings of her photographs than the six ft.\n",
      "(6ft.\n",
      "x 4ft.).   \n",
      "The respondent also used more tables and chairs on 5.4.2007, the day of the election that too at lesser distance of 100 feet.   \n",
      "The respondent No.3 also violated the directions by using poster, banners, sticker and Jhandis/flags.   \n",
      "She has also spent more than Rs.200000/- for publicity/canvassing.   \n",
      "The respondent No.3 has also used Loud speaker on auto-rickshaw, used for transportation of goods for her publicity/canvassing during election.\n",
      "That for the aforementioned reasons, the respondent No.3 has violated the conditions/directions/instructions of the Election Commission openly for canvassing/publicity for her election.\n",
      "That the petitioner has submitted/deposited a sum of Rs.3000/- with respondent No.2/M.C.D. for filing this petition in the court.\n",
      "That the election was held within the National Capital Territory of Delhi, where the cause of action has arisen for filing he present petition, hence this Hon’ble\n",
      "Court has jurisdiction to entertain and decide this petition.   \n",
      "Petition is filed within limitation.        \n",
      "It is, therefore, respectfully prayed that the Election dated 5.4.2007 for the election of Municipal Councillor for Ward No.21 may kindly be declared as null and void.       \n",
      "Any other or order/relief in favour of the petitioner and against the respondent No.1 to 3 may also be passed in the interest of justice.\n",
      "Delhi.\n",
      "Dated:           Petitioner     \n",
      "Through            \n",
      "(K.M. Dwivedi)            \n",
      "Advocate.\n",
      "VERIFICATION:-   \n",
      "Verified at Delhi on this   20th  day of   April, 2007 that the contents of my above petition from paras 1 to 13 are true and correct t\n",
      "my knowledge and those of paras 14 and 15 are believed to be true, based on information received and are correct.   \n",
      "Last para is prayer.\n",
      "Petitioner IN THE COUERT OF DISTRICT JUDGE: DELHI.\n",
      "ELECTION PETITION\n",
      "No OF 2007.\n",
      "In Re:- Smt.\n",
      "Saroj Anand        .Petitioner\n",
      "Versus The Election Commissioner & Others.   .Respondents\n",
      "A F F I\n",
      "D A V I T   \n",
      "I, Smt.\n",
      "Saroj Anand W/\n",
      "o\n",
      "Late Sh.\n",
      "(Dr.)\n",
      "Harish Anand R/o\n",
      "of A-1/128, Second Floor, Sector 11, Rohini, Delhi, do hereby solemnly affirm and declare as under:- 1.\n",
      "That I have filed a petition\n",
      "U/s.\n",
      "15 of the Delhi Municipal Corporation Act, R/w DMC(Election of Councillors), Rules, 1958 stating therein the true facts.   \n",
      "Contents of the petition have been read over and explained to me.   \n",
      "I have heard and understood the contents of the petition.   \n",
      "The same are true.   \n",
      "Contents of the petition are not repeated here for the sake of brevity and those be read as part of this affidavit also.\n",
      "DEPONENT VERIFICATION:-   \n",
      "Verified at Delhi on this 20th day of April, 2007 that the contents of my above affidavit are true and correct to my knowledge and nothing has been concealed therefrom.   \n",
      "DEPONENT IN THE COUERT OF DISTRICT JUDGE:\n",
      "DELHI.\n",
      "ELECTION PETITION\n",
      "No OF 2007.\n",
      "In Re:- Smt.\n",
      "Saroj Anand        .Petitioner\n",
      "Versus The Election Commissioner & Others.   .Respondents         \n",
      "Date of hearing : APPLICATION FOR STAY OF ENTRUSTMENT OF THE SEAT/POST.\n",
      "That the petitioner has filed the above titled petition stating therein the true facts, the contents of which are not repeated here for the sake of brevity and those be read as part and parcel of this application.   \n",
      "The petition is not fixed for hearing the court for 26.4.2007.\n",
      "That the petitioner has a good prima facie case in her favour\n",
      "and she has every hope to succeed in the case in the long run.\n",
      "That the balance of convenience also lies in favour of the petitioner and against the respondents.\n",
      "That the committee of the elected members are being formed and the respective members are being entrusted their respective seats/office in the respective officer of the elected members.   \n",
      "Accordingly, a seat/ office is also being allotted to the respondent No.3 who has won the election by unfair means.\n",
      "That the elected members are being allotted their respective seats/posts and offices.   \n",
      "In case, the respondent No.3 is allotted a seat/post/office during the pendency of the petition, the petitioner shall suffer irreparable loss and injury, which will not be compensated in any term of money.     \n",
      "It is, therefore, prayed that the respondents No.1 may kindly be restrained from allotting any seat/post/office to the respondent No.3 till the decision of the petition filed by the petitioner, in the interest of justice.\n",
      "Delhi.\n",
      "Dated:           Petitioner     \n",
      "Through            \n",
      "(K.M. Dwivedi)            \n",
      "Advocate.\n",
      "IN THE COUERT OF DISTRICT JUDGE: DELHI.\n",
      "ELECTION PETITION\n",
      "No OF 2007.\n",
      "In Re:- Smt.\n",
      "Saroj Anand        .Petitioner\n",
      "Versus The Election Commissioner & Others.   .Respondents\n",
      "A F F I\n",
      "D A V I T   \n",
      "I, Smt.\n",
      "Saroj Anand W/\n",
      "o\n",
      "Late Sh.\n",
      "(Dr.)\n",
      "Harish Anand R/o\n",
      "of A-1/128, Second Floor, Sector 11, Rohini, Delhi, do hereby solemnly affirm and declare as under:- 1.\n",
      "That I have filed a an application for stay of entrustment of seat/post/office, the contents of which have been drafted by my counsel under my instructions.   \n",
      "The same have been drafted under my instructions and the same have been read over and explained to me.   \n",
      "I have heard and understood the contents of the application.   \n",
      "The same are true.   \n",
      "Contents of the application are not repeated here for the sake of brevity and those be read as part of this affidavit also.\n",
      "DEPONENT VERIFICATION:-   \n",
      "Verified at Delhi on this 26th day of April, 2007 that the contents of my above affidavit are true and correct to my knowledge and nothing has been concealed therefrom.   \n",
      "DEPONENT\n"
     ]
    }
   ],
   "source": [
    "for sent in doc.sents:\n",
    "    print(sent)"
   ]
  },
  {
   "cell_type": "markdown",
   "metadata": {},
   "source": [
    "<h3>2. Word tokenization<h3>"
   ]
  },
  {
   "cell_type": "code",
   "execution_count": 13,
   "metadata": {},
   "outputs": [],
   "source": [
    "#tokens in our documents (after removing generic stop words)\n",
    "# refrence for spacy:\n",
    "#     >>> nlp.vocab[\"the\"].is_stop = False\n",
    "#     >>> nlp.vocab[\"definitelynotastopword\"].is_stop = True\n",
    "\n",
    "tokens = [token for token in doc if not nlp.vocab[str(token)].is_stop]"
   ]
  },
  {
   "cell_type": "code",
   "execution_count": 14,
   "metadata": {},
   "outputs": [],
   "source": [
    "# still it contains tokens that we dont need like , . - etc\n",
    "# removing them manually\n",
    "stop_words = [\"a\", \"about\", \"above\", \"after\", \"again\", \"against\", \"ain\", \"all\", \"am\", \"an\", \"and\", \"any\", \"are\", \"aren\", \"aren't\", \"as\", \"at\", \"be\", \"because\", \"been\", \"before\", \"being\", \"below\", \"between\", \"both\", \"but\", \"by\", \"can\", \"couldn\", \"couldn't\", \"d\", \"did\", \"didn\", \"didn't\", \"do\", \"does\", \"doesn\", \"doesn't\", \"doing\", \"don\", \"don't\", \"down\", \"during\", \"each\", \"few\", \"for\", \"from\", \"further\", \"had\", \"hadn\", \"hadn't\", \"has\", \"hasn\", \"hasn't\", \"have\", \"haven\", \"haven't\", \"having\", \"he\", \"her\", \"here\", \"hers\", \"herself\", \"him\", \"himself\", \"his\", \"how\", \"i\", \"if\", \"in\", \"into\", \"is\", \"isn\", \"isn't\", \"it\", \"it's\", \"its\", \"itself\", \"just\", \"ll\", \"m\", \"ma\", \"me\", \"mightn\", \"mightn't\", \"more\", \"most\", \"mustn\", \"mustn't\", \"my\", \"myself\", \"needn\", \"needn't\", \"no\", \"nor\", \"not\", \"now\", \"o\", \"of\", \"off\", \"on\", \"once\", \"only\", \"or\", \"other\", \"our\", \"ours\", \"ourselves\", \"out\", \"over\", \"own\", \"re\", \"s\", \"same\", \"shan\", \"shan't\", \"she\", \"she's\", \"should\", \"should've\", \"shouldn\", \"shouldn't\", \"so\", \"some\", \"such\", \"t\", \"than\", \"that\", \"that'll\", \"the\", \"their\", \"theirs\", \"them\", \"themselves\", \"then\", \"there\", \"these\", \"they\", \"this\", \"those\", \"through\", \"to\", \"too\", \"under\", \"until\", \"up\", \"ve\", \"very\", \"was\", \"wasn\", \"wasn't\", \"we\", \"were\", \"weren\", \"weren't\", \"what\", \"when\", \"where\", \"which\", \"while\", \"who\", \"whom\", \"why\", \"will\", \"with\", \"won\", \"won't\", \"wouldn\", \"wouldn't\", \"y\", \"you\", \"you'd\", \"you'll\", \"you're\", \"you've\", \"your\", \"yours\", \"yourself\", \"yourselves\", \"could\", \"he'd\", \"he'll\", \"he's\", \"here's\", \"how's\", \"i'd\", \"i'll\", \"i'm\", \"i've\", \"let's\", \"ought\", \"she'd\", \"she'll\", \"that's\", \"there's\", \"they'd\", \"they'll\", \"they're\", \"they've\", \"we'd\", \"we'll\", \"we're\", \"we've\", \"what's\", \"when's\", \"where's\", \"who's\", \"why's\", \"would\", \"able\", \"abst\", \"accordance\", \"according\", \"accordingly\", \"across\", \"act\", \"actually\", \"added\", \"adj\", \"affected\", \"affecting\", \"affects\", \"afterwards\", \"ah\", \"almost\", \"alone\", \"along\", \"already\", \"also\", \"although\", \"always\", \"among\", \"amongst\", \"announce\", \"another\", \"anybody\", \"anyhow\", \"anymore\", \"anyone\", \"anything\", \"anyway\", \"anyways\", \"anywhere\", \"apparently\", \"approximately\", \"arent\", \"arise\", \"around\", \"aside\", \"ask\", \"asking\", \"auth\", \"available\", \"away\", \"awfully\", \"b\", \"back\", \"became\", \"become\", \"becomes\", \"becoming\", \"beforehand\", \"begin\", \"beginning\", \"beginnings\", \"begins\", \"behind\", \"believe\", \"beside\", \"besides\", \"beyond\", \"biol\", \"brief\", \"briefly\", \"c\", \"ca\", \"came\", \"cannot\", \"can't\", \"cause\", \"causes\", \"certain\", \"certainly\", \"co\", \"com\", \"come\", \"comes\", \"contain\", \"containing\", \"contains\", \"couldnt\", \"date\", \"different\", \"done\", \"downwards\", \"due\", \"e\", \"ed\", \"edu\", \"effect\", \"eg\", \"eight\", \"eighty\", \"either\", \"else\", \"elsewhere\", \"end\", \"ending\", \"enough\", \"especially\", \"et\", \"etc\", \"even\", \"ever\", \"every\", \"everybody\", \"everyone\", \"everything\", \"everywhere\", \"ex\", \"except\", \"f\", \"far\", \"ff\", \"fifth\", \"first\", \"five\", \"fix\", \"followed\", \"following\", \"follows\", \"former\", \"formerly\", \"forth\", \"found\", \"four\", \"furthermore\", \"g\", \"gave\", \"get\", \"gets\", \"getting\", \"give\", \"given\", \"gives\", \"giving\", \"go\", \"goes\", \"gone\", \"got\", \"gotten\", \"h\", \"happens\", \"hardly\", \"hed\", \"hence\", \"hereafter\", \"hereby\", \"herein\", \"heres\", \"hereupon\", \"hes\", \"hi\", \"hid\", \"hither\", \"home\", \"howbeit\", \"however\", \"hundred\", \"id\", \"ie\", \"im\", \"immediate\", \"immediately\", \"importance\", \"important\", \"inc\", \"indeed\", \"index\", \"information\", \"instead\", \"invention\", \"inward\", \"itd\", \"it'll\", \"j\", \"k\", \"keep\", \"keeps\", \"kept\", \"kg\", \"km\", \"know\", \"known\", \"knows\", \"l\", \"largely\", \"last\", \"lately\", \"later\", \"latter\", \"latterly\", \"least\", \"less\", \"lest\", \"let\", \"lets\", \"like\", \"liked\", \"likely\", \"line\", \"little\", \"'ll\", \"look\", \"looking\", \"looks\", \"ltd\", \"made\", \"mainly\", \"make\", \"makes\", \"many\", \"may\", \"maybe\", \"mean\", \"means\", \"meantime\", \"meanwhile\", \"merely\", \"mg\", \"might\", \"million\", \"miss\", \"ml\", \"moreover\", \"mostly\", \"mr\", \"mrs\", \"much\", \"mug\", \"must\", \"n\", \"na\", \"name\", \"namely\", \"nay\", \"nd\", \"near\", \"nearly\", \"necessarily\", \"necessary\", \"need\", \"needs\", \"neither\", \"never\", \"nevertheless\", \"new\", \"next\", \"nine\", \"ninety\", \"nobody\", \"non\", \"none\", \"nonetheless\", \"noone\", \"normally\", \"nos\", \"noted\", \"nothing\", \"nowhere\", \"obtain\", \"obtained\", \"obviously\", \"often\", \"oh\", \"ok\", \"okay\", \"old\", \"omitted\", \"one\", \"ones\", \"onto\", \"ord\", \"others\", \"otherwise\", \"outside\", \"overall\", \"owing\", \"p\", \"page\", \"pages\", \"part\", \"particular\", \"particularly\", \"past\", \"per\", \"perhaps\", \"placed\", \"please\", \"plus\", \"poorly\", \"possible\", \"possibly\", \"potentially\", \"pp\", \"predominantly\", \"present\", \"previously\", \"primarily\", \"probably\", \"promptly\", \"proud\", \"provides\", \"put\", \"q\", \"que\", \"quickly\", \"quite\", \"qv\", \"r\", \"ran\", \"rather\", \"rd\", \"readily\", \"really\", \"recent\", \"recently\", \"ref\", \"refs\", \"regarding\", \"regardless\", \"regards\", \"related\", \"relatively\", \"research\", \"respectively\", \"resulted\", \"resulting\", \"results\", \"right\", \"run\", \"said\", \"saw\", \"say\", \"saying\", \"says\", \"sec\", \"section\", \"see\", \"seeing\", \"seem\", \"seemed\", \"seeming\", \"seems\", \"seen\", \"self\", \"selves\", \"sent\", \"seven\", \"several\", \"shall\", \"shed\", \"shes\", \"show\", \"showed\", \"shown\", \"showns\", \"shows\", \"significant\", \"significantly\", \"similar\", \"similarly\", \"since\", \"six\", \"slightly\", \"somebody\", \"somehow\", \"someone\", \"somethan\", \"something\", \"sometime\", \"sometimes\", \"somewhat\", \"somewhere\", \"soon\", \"sorry\", \"specifically\", \"specified\", \"specify\", \"specifying\", \"still\", \"stop\", \"strongly\", \"sub\", \"substantially\", \"successfully\", \"sufficiently\", \"suggest\", \"sup\", \"sure\", \"take\", \"taken\", \"taking\", \"tell\", \"tends\", \"th\", \"thank\", \"thanks\", \"thanx\", \"thats\", \"that've\", \"thence\", \"thereafter\", \"thereby\", \"thered\", \"therefore\", \"therein\", \"there'll\", \"thereof\", \"therere\", \"theres\", \"thereto\", \"thereupon\", \"there've\", \"theyd\", \"theyre\", \"think\", \"thou\", \"though\", \"thoughh\", \"thousand\", \"throug\", \"throughout\", \"thru\", \"thus\", \"til\", \"tip\", \"together\", \"took\", \"toward\", \"towards\", \"tried\", \"tries\", \"truly\", \"try\", \"trying\", \"ts\", \"twice\", \"two\", \"u\", \"un\", \"unfortunately\", \"unless\", \"unlike\", \"unlikely\", \"unto\", \"upon\", \"ups\", \"us\", \"use\", \"used\", \"useful\", \"usefully\", \"usefulness\", \"uses\", \"using\", \"usually\", \"v\", \"value\", \"various\", \"'ve\", \"via\", \"viz\", \"vol\", \"vols\", \"vs\", \"w\", \"want\", \"wants\", \"wasnt\", \"way\", \"wed\", \"welcome\", \"went\", \"werent\", \"whatever\", \"what'll\", \"whats\", \"whence\", \"whenever\", \"whereafter\", \"whereas\", \"whereby\", \"wherein\", \"wheres\", \"whereupon\", \"wherever\", \"whether\", \"whim\", \"whither\", \"whod\", \"whoever\", \"whole\", \"who'll\", \"whomever\", \"whos\", \"whose\", \"widely\", \"willing\", \"wish\", \"within\", \"without\", \"wont\", \"words\", \"world\", \"wouldnt\", \"www\", \"x\", \"yes\", \"yet\", \"youd\", \"youre\", \"z\", \"zero\", \"a's\", \"ain't\", \"allow\", \"allows\", \"apart\", \"appear\", \"appreciate\", \"appropriate\", \"associated\", \"best\", \"better\", \"c'mon\", \"c's\", \"cant\", \"changes\", \"clearly\", \"concerning\", \"consequently\", \"consider\", \"considering\", \"corresponding\", \"course\", \"currently\", \"definitely\", \"described\", \"despite\", \"entirely\", \"exactly\", \"example\", \"going\", \"greetings\", \"hello\", \"help\", \"hopefully\", \"ignored\", \"inasmuch\", \"indicate\", \"indicated\", \"indicates\", \"inner\", \"insofar\", \"it'd\", \"keep\", \"keeps\", \"novel\", \"presumably\", \"reasonably\", \"second\", \"secondly\", \"sensible\", \"serious\", \"seriously\", \"sure\", \"t's\", \"third\", \"thorough\", \"thoroughly\", \"three\", \"well\", \"wonder\", \"a\", \"about\", \"above\", \"above\", \"across\", \"after\", \"afterwards\", \"again\", \"against\", \"all\", \"almost\", \"alone\", \"along\", \"already\", \"also\", \"although\", \"always\", \"am\", \"among\", \"amongst\", \"amoungst\", \"amount\", \"an\", \"and\", \"another\", \"any\", \"anyhow\", \"anyone\", \"anything\", \"anyway\", \"anywhere\", \"are\", \"around\", \"as\", \"at\", \"back\", \"be\", \"became\", \"because\", \"become\", \"becomes\", \"becoming\", \"been\", \"before\", \"beforehand\", \"behind\", \"being\", \"below\", \"beside\", \"besides\", \"between\", \"beyond\", \"bill\", \"both\", \"bottom\", \"but\", \"by\", \"call\", \"can\", \"cannot\", \"cant\", \"co\", \"con\", \"could\", \"couldnt\", \"cry\", \"de\", \"describe\", \"detail\", \"do\", \"done\", \"down\", \"due\", \"during\", \"each\", \"eg\", \"eight\", \"either\", \"eleven\", \"else\", \"elsewhere\", \"empty\", \"enough\", \"etc\", \"even\", \"ever\", \"every\", \"everyone\", \"everything\", \"everywhere\", \"except\", \"few\", \"fifteen\", \"fify\", \"fill\", \"find\", \"fire\", \"first\", \"five\", \"for\", \"former\", \"formerly\", \"forty\", \"found\", \"four\", \"from\", \"front\", \"full\", \"further\", \"get\", \"give\", \"go\", \"had\", \"has\", \"hasnt\", \"have\", \"he\", \"hence\", \"her\", \"here\", \"hereafter\", \"hereby\", \"herein\", \"hereupon\", \"hers\", \"herself\", \"him\", \"himself\", \"his\", \"how\", \"however\", \"hundred\", \"ie\", \"if\", \"in\", \"inc\", \"indeed\", \"interest\", \"into\", \"is\", \"it\", \"its\", \"itself\", \"keep\", \"last\", \"latter\", \"latterly\", \"least\", \"less\", \"ltd\", \"made\", \"many\", \"may\", \"me\", \"meanwhile\", \"might\", \"mill\", \"mine\", \"more\", \"moreover\", \"most\", \"mostly\", \"move\", \"much\", \"must\", \"my\", \"myself\", \"name\", \"namely\", \"neither\", \"never\", \"nevertheless\", \"next\", \"nine\", \"no\", \"nobody\", \"none\", \"noone\", \"nor\", \"not\", \"nothing\", \"now\", \"nowhere\", \"of\", \"off\", \"often\", \"on\", \"once\", \"one\", \"only\", \"onto\", \"or\", \"other\", \"others\", \"otherwise\", \"our\", \"ours\", \"ourselves\", \"out\", \"over\", \"own\", \"part\", \"per\", \"perhaps\", \"please\", \"put\", \"rather\", \"re\", \"same\", \"see\", \"seem\", \"seemed\", \"seeming\", \"seems\", \"serious\", \"several\", \"she\", \"should\", \"show\", \"side\", \"since\", \"sincere\", \"six\", \"sixty\", \"so\", \"some\", \"somehow\", \"someone\", \"something\", \"sometime\", \"sometimes\", \"somewhere\", \"still\", \"such\", \"system\", \"take\", \"ten\", \"than\", \"that\", \"the\", \"their\", \"them\", \"themselves\", \"then\", \"thence\", \"there\", \"thereafter\", \"thereby\", \"therefore\", \"therein\", \"thereupon\", \"these\", \"they\", \"thickv\", \"thin\", \"third\", \"this\", \"those\", \"though\", \"three\", \"through\", \"throughout\", \"thru\", \"thus\", \"to\", \"together\", \"too\", \"top\", \"toward\", \"towards\", \"twelve\", \"twenty\", \"two\", \"un\", \"under\", \"until\", \"up\", \"upon\", \"us\", \"very\", \"via\", \"was\", \"we\", \"well\", \"were\", \"what\", \"whatever\", \"when\", \"whence\", \"whenever\", \"where\", \"whereafter\", \"whereas\", \"whereby\", \"wherein\", \"whereupon\", \"wherever\", \"whether\", \"which\", \"while\", \"whither\", \"who\", \"whoever\", \"whole\", \"whom\", \"whose\", \"why\", \"will\", \"with\", \"within\", \"without\", \"would\", \"yet\", \"you\", \"your\", \"yours\", \"yourself\", \"yourselves\", \"the\", \"a\", \"b\", \"c\", \"d\", \"e\", \"f\", \"g\", \"h\", \"i\", \"j\", \"k\", \"l\", \"m\", \"n\", \"o\", \"p\", \"q\", \"r\", \"s\", \"t\", \"u\", \"v\", \"w\", \"x\", \"y\", \"z\", \"A\", \"B\", \"C\", \"D\", \"E\", \"F\", \"G\", \"H\", \"I\", \"J\", \"K\", \"L\", \"M\", \"N\", \"O\", \"P\", \"Q\", \"R\", \"S\", \"T\", \"U\", \"V\", \"W\", \"X\", \"Y\", \"Z\", \"co\", \"op\", \"research-articl\", \"pagecount\", \"cit\", \"ibid\", \"les\", \"le\", \"au\", \"que\", \"est\", \"pas\", \"vol\", \"el\", \"los\", \"pp\", \"u201d\", \"well-b\", \"http\", \"volumtype\", \"par\", \"0o\", \"0s\", \"3a\", \"3b\", \"3d\", \"6b\", \"6o\", \"a1\", \"a2\", \"a3\", \"a4\", \"ab\", \"ac\", \"ad\", \"ae\", \"af\", \"ag\", \"aj\", \"al\", \"an\", \"ao\", \"ap\", \"ar\", \"av\", \"aw\", \"ax\", \"ay\", \"az\", \"b1\", \"b2\", \"b3\", \"ba\", \"bc\", \"bd\", \"be\", \"bi\", \"bj\", \"bk\", \"bl\", \"bn\", \"bp\", \"br\", \"bs\", \"bt\", \"bu\", \"bx\", \"c1\", \"c2\", \"c3\", \"cc\", \"cd\", \"ce\", \"cf\", \"cg\", \"ch\", \"ci\", \"cj\", \"cl\", \"cm\", \"cn\", \"cp\", \"cq\", \"cr\", \"cs\", \"ct\", \"cu\", \"cv\", \"cx\", \"cy\", \"cz\", \"d2\", \"da\", \"dc\", \"dd\", \"de\", \"df\", \"di\", \"dj\", \"dk\", \"dl\", \"do\", \"dp\", \"dr\", \"ds\", \"dt\", \"du\", \"dx\", \"dy\", \"e2\", \"e3\", \"ea\", \"ec\", \"ed\", \"ee\", \"ef\", \"ei\", \"ej\", \"el\", \"em\", \"en\", \"eo\", \"ep\", \"eq\", \"er\", \"es\", \"et\", \"eu\", \"ev\", \"ex\", \"ey\", \"f2\", \"fa\", \"fc\", \"ff\", \"fi\", \"fj\", \"fl\", \"fn\", \"fo\", \"fr\", \"fs\", \"ft\", \"fu\", \"fy\", \"ga\", \"ge\", \"gi\", \"gj\", \"gl\", \"go\", \"gr\", \"gs\", \"gy\", \"h2\", \"h3\", \"hh\", \"hi\", \"hj\", \"ho\", \"hr\", \"hs\", \"hu\", \"hy\", \"i\", \"i2\", \"i3\", \"i4\", \"i6\", \"i7\", \"i8\", \"ia\", \"ib\", \"ic\", \"ie\", \"ig\", \"ih\", \"ii\", \"ij\", \"il\", \"in\", \"io\", \"ip\", \"iq\", \"ir\", \"iv\", \"ix\", \"iy\", \"iz\", \"jj\", \"jr\", \"js\", \"jt\", \"ju\", \"ke\", \"kg\", \"kj\", \"km\", \"ko\", \"l2\", \"la\", \"lb\", \"lc\", \"lf\", \"lj\", \"ln\", \"lo\", \"lr\", \"ls\", \"lt\", \"m2\", \"ml\", \"mn\", \"mo\", \"ms\", \"mt\", \"mu\", \"n2\", \"nc\", \"nd\", \"ne\", \"ng\", \"ni\", \"nj\", \"nl\", \"nn\", \"nr\", \"ns\", \"nt\", \"ny\", \"oa\", \"ob\", \"oc\", \"od\", \"of\", \"og\", \"oi\", \"oj\", \"ol\", \"om\", \"on\", \"oo\", \"oq\", \"or\", \"os\", \"ot\", \"ou\", \"ow\", \"ox\", \"oz\", \"p1\", \"p2\", \"p3\", \"pc\", \"pd\", \"pe\", \"pf\", \"ph\", \"pi\", \"pj\", \"pk\", \"pl\", \"pm\", \"pn\", \"po\", \"pq\", \"pr\", \"ps\", \"pt\", \"pu\", \"py\", \"qj\", \"qu\", \"r2\", \"ra\", \"rc\", \"rd\", \"rf\", \"rh\", \"ri\", \"rj\", \"rl\", \"rm\", \"rn\", \"ro\", \"rq\", \"rr\", \"rs\", \"rt\", \"ru\", \"rv\", \"ry\", \"s2\", \"sa\", \"sc\", \"sd\", \"se\", \"sf\", \"si\", \"sj\", \"sl\", \"sm\", \"sn\", \"sp\", \"sq\", \"sr\", \"ss\", \"st\", \"sy\", \"sz\", \"t1\", \"t2\", \"t3\", \"tb\", \"tc\", \"td\", \"te\", \"tf\", \"th\", \"ti\", \"tj\", \"tl\", \"tm\", \"tn\", \"tp\", \"tq\", \"tr\", \"ts\", \"tt\", \"tv\", \"tx\", \"ue\", \"ui\", \"uj\", \"uk\", \"um\", \"un\", \"uo\", \"ur\", \"ut\", \"va\", \"wa\", \"vd\", \"wi\", \"vj\", \"vo\", \"wo\", \"vq\", \"vt\", \"vu\", \"x1\", \"x2\", \"x3\", \"xf\", \"xi\", \"xj\", \"xk\", \"xl\", \"xn\", \"xo\", \"xs\", \"xt\", \"xv\", \"xx\", \"y2\", \"yj\", \"yl\", \"yr\", \"ys\", \"yt\", \"zi\", \"zz\",\"!\",\"@\",\"#\",\"$\",\"%\",\"^\",\"&\",\"*\",\"(\",\")\",\"_\",\"-\",\"+\",\"=\",\"{\",\"}\",\"[\",\"]\",\":\",\";\",\".\",\",\",\"/\",\"  \"]\n",
    "\n",
    "tokens = [token for token in doc if str(token) not in stop_words]"
   ]
  },
  {
   "cell_type": "markdown",
   "metadata": {},
   "source": [
    "## Result from the above cells:\n",
    "## 1. `sentences`\n",
    "## 2. `tokens`"
   ]
  },
  {
   "cell_type": "code",
   "execution_count": 15,
   "metadata": {},
   "outputs": [],
   "source": [
    "# calculate token_frequency and sentence_frequency"
   ]
  },
  {
   "cell_type": "code",
   "execution_count": 16,
   "metadata": {},
   "outputs": [
    {
     "name": "stdout",
     "output_type": "stream",
     "text": [
      "IN THE COUERT OF DISTRICT JUDGE: DELHI.\n",
      "ELECTION PETITION\n",
      "No OF 2007.\n",
      "In Re:- Smt.\n",
      "Saroj Anand        .Petitioner\n",
      "Versus The Election Commissioner & Others.   .Respondents\n",
      "INDEX Delhi.\n",
      "Dated:         \n",
      "(K.M. DWIVEDI)              \n",
      "Advocate Counsel for the Petitioner IN THE COUERT OF DISTRICT JUDGE: DELHI.\n",
      "ELECTION PETITION\n",
      "No OF 2007.\n",
      "In Re:- Smt.\n",
      "Saroj Anand        .Petitioner\n",
      "Versus The Election Commissioner & Others.   .Respondents\n",
      "MEMO OF PARTIES Smt.\n",
      "Saroj Anand, R/o A-1/123, Second Floor, Sector-11, Rohini,  Delhi-110095.       \n",
      "Petitioner Versus 1.\n",
      "The Election Commissioner,  Delhi Election Commission,  Delhi.\n",
      "2.\n",
      "The Commissioner of Police,  Police Headquarters,  Indraprastha Estate,  New Delhi-110002.\n",
      "3.\n",
      "Smt.\n",
      "Nirmala Thakur, BJP,   R/o B-1/162 and 163,  Sector 17, Rohini,\n",
      "Delhi-85. 4.\n",
      "Smt.\n",
      "Chanda Rai,  R /o\n",
      "B-7/104, Sector 17,  Rohini, Delhi-85. 5.\n",
      "Smt.\n",
      "Sunita   R/o B-3/90-91,   Sector 16, Rohini,\n",
      "Delhi-85. 6.\n",
      "Smt.\n",
      "Geeta  R/o 148, Nimri Colony,  Ashok Vihar, Delhi-52. 7.\n",
      "Smt.\n",
      "Supriya Chaudhar,  H-2/91, Sector 16,   Rohini-85/ 8.\n",
      "Ms. Anita Jain,  R/o B-2/188, Sector 17,   Rohini, Delhi-85. 9.\n",
      "Ms. Pushpender Kaur,  R/o A-4/143, Sector 17,   Rohini, Delhi-85. 10.\n",
      "Ms. Santosh Bansal,  R /o\n",
      "A-8/44, Sector 17,   Rohini, Delhi-85. 11.\n",
      "Ms. Sneh Bala,  R /o\n",
      "D-3/13, Sector 11,  Rohini, Delhi-85. 12.\n",
      "Ms. Sushila,  R/o B-2/82, Sector 17,   Rohini, Delhi-85.                                   Respondents Delhi.\n",
      "Dated:           Petitioner     \n",
      "Through            \n",
      "(K.M. Dwivedi)            \n",
      "Advocate.\n",
      "IN THE COUERT OF DISTRICT JUDGE: DELHI.\n",
      "ELECTION PETITION\n",
      "No OF 2007.\n",
      "In Re:- Smt.\n",
      "Saroj Anand, R/o A-1/123, Second Floor, Sector-11, Rohini,  Delhi-110095.       \n",
      "Petitioner Versus 1.\n",
      "The Election Commissioner,  Delhi Election Commission,  Delhi.\n",
      "2.\n",
      "The Commissioner of Police,  Police Headquarters,  Indraprastha Estate,  New Delhi-110002.\n",
      "3.\n",
      "Smt.\n",
      "Nirmala Thakur, BJP,   R/o B-1/162 and 163,  Sector 17, Rohini,\n",
      "Delhi-85. 4.\n",
      "Smt.\n",
      "Chanda Rai,  R /o\n",
      "B-7/104, Sector 17,  Rohini, Delhi-85. 5.\n",
      "Smt.\n",
      "Sunita   R/o B-3/90-91,   Sector 16, Rohini,\n",
      "Delhi-85. 6.\n",
      "Smt.\n",
      "Geeta  R/o 148, Nimri Colony,  Ashok Vihar, Delhi-52. 7.\n",
      "Smt.\n",
      "Supriya Chaudhary,  H-2/91, Sector 16,   Rohini-85/ 8.\n",
      "Ms. Anita Jain,  R/o B-2/188, Sector 17,   Rohini, Delhi-85. 9.\n",
      "Ms. Pushpender Kaur,  R/o A-4/143, Sector 17,   Rohini, Delhi-85. 10.\n",
      "Ms. Santosh Bansal,  R /o\n",
      "A-8/44, Sector 17,   Rohini, Delhi-85. 11.\n",
      "Ms. Sneh Bala,  R /o\n",
      "D-3/13, Sector 11,  Rohini, Delhi-85. 12.\n",
      "Ms. Sushila,  R/o B-2/82, Sector 17,   Rohini,\n",
      "Delhi-85.                                    Respondents PETITION UNDER SECTION 15 OF THE DELHI MUNICIPAL CORPORATION ACT, READ WITH DELHI MUNICIPAL CORPORATION (ELECTION OF COUNCILLORS) RULES, 1958.\n",
      "Sir,  The petitioner most respectfully submits as under:-\n",
      "That the petitioner is a permanent resident of Delhi and her name is also included in the Electoral Roll, 2007.\n",
      "That Election for Municipal Councillors for  the Municipal Corporation of Delhi were declared to be held on 5th April, 2007.\n",
      "That the petitioner contested the election on the Ticket of Indian National Congress, party, the respondent No.3 contested her election on the B.J.P. Ticket, respondent No.4 contested election on the ticket of Bahujan Smajwadi Parti, the respondent No.5 contested election on the Ticket of National Congress Party, while remaining candidates contesting election on independent tickets.   \n",
      "Respondents No.4 to 12 are Performa respondents, and no relief is claimed against them.\n",
      "That on thoroughly going through the key-plan of the Pocket A-8, there are only 120 plots were carved by the Delhi Development, in Sector 16, Rohini, Delhi.   \n",
      "But in the Electoral Roll, 2007 for the Ward 21, 660 plots/ properties have been mentioned, each having 60 square meters area.   \n",
      "Thus, there have been shown over and above 540 plots.\n",
      "Further, in the same Sector, in Pockets C-4,  and C-5, 184 plots have been shown.   \n",
      "Besides this, in Pocket B-4, plot Nos.107 have been shown in the Electoral Roll, 2007.   \n",
      "The true fact are that there are no pocket C-4, C-5 and B-4 in the Sector No.16, Rohini, Delhi.\n",
      "831 more plots have shown in Sector 16.\n",
      "That on each plot, the structure is raised upto third floor, First Floor, Second Floor and Third Floor, which shows that there are 3324 properties/floors more have been shown in the total plots of 831, whereas the aforementioned plots/properties are not existing in the Pockets C-4, C-5 and E-4, Sector 16, Rohini, Delhi, and the same have falsely been mentioned in the list.\n",
      "That in furtherance malafide intention, in the aforementioned false properties numbering 3324, numerous false voters have also been shown, on whose behalf, base votes have been casted on the day of the election, i.e. 5.4.2007.\n",
      "That the petitioner, on several occasions, approached the defendant/respondent No.1 for checki9ng\n",
      "the activities of the activities of the respondent No.3, but it did not care for the requests of the petitioner and turned a deaf ear to her requests.   \n",
      "When the petitioner found that the respondent No.1 was not caring for the requests of petitioner, hence she submitted a written complaint dated 4.4.2007 with request for taking action against the respondent No.1 in pursuance of the provisions of law.   \n",
      "But the respondent did not care for the same.\n",
      "That on 16.4.2007, the petitioner further submit a complaint dated 16.4.2007 in pursuance of her complaint for conducting fair inquiry in the matter, against the respondent No.3.    \n",
      "It is submitted that the petitioner also submitted a letter dated 4.4.2008 to the respondent No.1 for the use of vehicles in the canvassing  with which the goods are transported, but the concerned officials did not care for the requests of the petitioner and the dumped her complaints for the reasons best known to the respondent\n",
      "No.1.   \n",
      "The vehicles used bear Nos.\n",
      "DL-1LH-4732 and Qualis\n",
      "No.DL-1VB-2176.\n",
      "That for the reasons mentioned above, the respondent No.3 has violated the directions/instructions circulated by the respondent No.1 openly for her ill-motive for which the respondent No.3 should be prosecuted and punished as per provisions of law, but the respondent Nos.\n",
      "1 and 2 did not care for the same and closed their eyes from the side of the respondent No.3.   \n",
      "Had the respondents No.1 and 2 vigilant and active for initiating a stern action against the respondent No.3, she would have not won the election at all.\n",
      "That the candidates of the election ere not allowed the advertisements of their the motor vehicles but the respondent No.3 freely used vehicle in her advertisement/publicity, without a hitch.\n",
      "That the respondent No.3 also opened her two publicity offices, whereas she should have to daily used one office for the said purpose, but she has not acted upon the directions.   \n",
      "The respondent No.3 caused several other irregularities.   \n",
      "That the respondent No.3 used two offices for publicity/canvassing the election for herself.   \n",
      "She also used more than two hordings of her photographs, which is clear from the photographs filed herewith.   \n",
      "The respondent used bigger hordings of her photographs than the six ft.\n",
      "(6ft.\n",
      "x 4ft.).   \n",
      "The respondent also used more tables and chairs on 5.4.2007, the day of the election that too at lesser distance of 100 feet.   \n",
      "The respondent No.3 also violated the directions by using poster, banners, sticker and Jhandis/flags.   \n",
      "She has also spent more than Rs.200000/- for publicity/canvassing.   \n",
      "The respondent No.3 has also used Loud speaker on auto-rickshaw, used for transportation of goods for her publicity/canvassing during election.\n",
      "That for the aforementioned reasons, the respondent No.3 has violated the conditions/directions/instructions of the Election Commission openly for canvassing/publicity for her election.\n",
      "That the petitioner has submitted/deposited a sum of Rs.3000/- with respondent No.2/M.C.D. for filing this petition in the court.\n",
      "That the election was held within the National Capital Territory of Delhi, where the cause of action has arisen for filing he present petition, hence this Hon’ble\n",
      "Court has jurisdiction to entertain and decide this petition.   \n",
      "Petition is filed within limitation.        \n",
      "It is, therefore, respectfully prayed that the Election dated 5.4.2007 for the election of Municipal Councillor for Ward No.21 may kindly be declared as null and void.       \n",
      "Any other or order/relief in favour of the petitioner and against the respondent No.1 to 3 may also be passed in the interest of justice.\n",
      "Delhi.\n",
      "Dated:           Petitioner     \n",
      "Through            \n",
      "(K.M. Dwivedi)            \n",
      "Advocate.\n",
      "VERIFICATION:-   \n",
      "Verified at Delhi on this   20th  day of   April, 2007 that the contents of my above petition from paras 1 to 13 are true and correct t\n",
      "my knowledge and those of paras 14 and 15 are believed to be true, based on information received and are correct.   \n",
      "Last para is prayer.\n",
      "Petitioner IN THE COUERT OF DISTRICT JUDGE: DELHI.\n",
      "ELECTION PETITION\n",
      "No OF 2007.\n",
      "In Re:- Smt.\n",
      "Saroj Anand        .Petitioner\n",
      "Versus The Election Commissioner & Others.   .Respondents\n",
      "A F F I\n",
      "D A V I T   \n",
      "I, Smt.\n",
      "Saroj Anand W/\n",
      "o\n",
      "Late Sh.\n",
      "(Dr.)\n",
      "Harish Anand R/o\n",
      "of A-1/128, Second Floor, Sector 11, Rohini, Delhi, do hereby solemnly affirm and declare as under:- 1.\n",
      "That I have filed a petition\n",
      "U/s.\n",
      "15 of the Delhi Municipal Corporation Act, R/w DMC(Election of Councillors), Rules, 1958 stating therein the true facts.   \n",
      "Contents of the petition have been read over and explained to me.   \n",
      "I have heard and understood the contents of the petition.   \n",
      "The same are true.   \n",
      "Contents of the petition are not repeated here for the sake of brevity and those be read as part of this affidavit also.\n",
      "DEPONENT VERIFICATION:-   \n",
      "Verified at Delhi on this 20th day of April, 2007 that the contents of my above affidavit are true and correct to my knowledge and nothing has been concealed therefrom.   \n",
      "DEPONENT IN THE COUERT OF DISTRICT JUDGE:\n",
      "DELHI.\n",
      "ELECTION PETITION\n",
      "No OF 2007.\n",
      "In Re:- Smt.\n",
      "Saroj Anand        .Petitioner\n",
      "Versus The Election Commissioner & Others.   .Respondents         \n",
      "Date of hearing : APPLICATION FOR STAY OF ENTRUSTMENT OF THE SEAT/POST.\n",
      "That the petitioner has filed the above titled petition stating therein the true facts, the contents of which are not repeated here for the sake of brevity and those be read as part and parcel of this application.   \n",
      "The petition is not fixed for hearing the court for 26.4.2007.\n",
      "That the petitioner has a good prima facie case in her favour\n",
      "and she has every hope to succeed in the case in the long run.\n",
      "That the balance of convenience also lies in favour of the petitioner and against the respondents.\n",
      "That the committee of the elected members are being formed and the respective members are being entrusted their respective seats/office in the respective officer of the elected members.   \n",
      "Accordingly, a seat/ office is also being allotted to the respondent No.3 who has won the election by unfair means.\n",
      "That the elected members are being allotted their respective seats/posts and offices.   \n",
      "In case, the respondent No.3 is allotted a seat/post/office during the pendency of the petition, the petitioner shall suffer irreparable loss and injury, which will not be compensated in any term of money.     \n",
      "It is, therefore, prayed that the respondents No.1 may kindly be restrained from allotting any seat/post/office to the respondent No.3 till the decision of the petition filed by the petitioner, in the interest of justice.\n",
      "Delhi.\n",
      "Dated:           Petitioner     \n",
      "Through            \n",
      "(K.M. Dwivedi)            \n",
      "Advocate.\n",
      "IN THE COUERT OF DISTRICT JUDGE: DELHI.\n",
      "ELECTION PETITION\n",
      "No OF 2007.\n",
      "In Re:- Smt.\n",
      "Saroj Anand        .Petitioner\n",
      "Versus The Election Commissioner & Others.   .Respondents\n",
      "A F F I\n",
      "D A V I T   \n",
      "I, Smt.\n",
      "Saroj Anand W/\n",
      "o\n",
      "Late Sh.\n",
      "(Dr.)\n",
      "Harish Anand R/o\n",
      "of A-1/128, Second Floor, Sector 11, Rohini, Delhi, do hereby solemnly affirm and declare as under:- 1.\n",
      "That I have filed a an application for stay of entrustment of seat/post/office, the contents of which have been drafted by my counsel under my instructions.   \n",
      "The same have been drafted under my instructions and the same have been read over and explained to me.   \n",
      "I have heard and understood the contents of the application.   \n",
      "The same are true.   \n",
      "Contents of the application are not repeated here for the sake of brevity and those be read as part of this affidavit also.\n",
      "DEPONENT VERIFICATION:-   \n",
      "Verified at Delhi on this 26th day of April, 2007 that the contents of my above affidavit are true and correct to my knowledge and nothing has been concealed therefrom.   \n",
      "DEPONENT\n"
     ]
    }
   ],
   "source": [
    "for d in doc.sents:\n",
    "    print(d)"
   ]
  },
  {
   "cell_type": "code",
   "execution_count": 17,
   "metadata": {},
   "outputs": [],
   "source": [
    "# similarity in spacy refrence\n",
    "\n",
    "#     apples = nlp(u\"I like apples\")\n",
    "#     oranges = nlp(u\"I like oranges\")\n",
    "#     apples_oranges = apples.similarity(oranges)\n",
    "#     oranges_apples = oranges.similarity(apples)\n",
    "#     assert apples_oranges == oranges_apples"
   ]
  },
  {
   "cell_type": "code",
   "execution_count": 18,
   "metadata": {},
   "outputs": [],
   "source": [
    "# <h2>3. Word Frequency table</h2>\n",
    "# <ul>\n",
    "# <li>dictionary of words and their counts</li>\n",
    "# <li>How many times each word appears in the document</li>\n",
    "\n",
    "\n",
    "# </ul>"
   ]
  },
  {
   "cell_type": "code",
   "execution_count": 19,
   "metadata": {},
   "outputs": [],
   "source": [
    "# from collections import defaultdict\n",
    "\n",
    "# token_freq = defaultdict(int)\n",
    "\n",
    "# for token in tokens:\n",
    "#     token_freq[token] += 1"
   ]
  },
  {
   "cell_type": "markdown",
   "metadata": {},
   "source": [
    "<h2>4. Extract Word vectors</h2>\n"
   ]
  },
  {
   "cell_type": "code",
   "execution_count": 20,
   "metadata": {},
   "outputs": [
    {
     "name": "stderr",
     "output_type": "stream",
     "text": [
      "[nltk_data] Downloading package punkt to /home/sumit/nltk_data...\n",
      "[nltk_data]   Package punkt is already up-to-date!\n"
     ]
    }
   ],
   "source": [
    "import numpy as np\n",
    "import pandas as pd\n",
    "import nltk\n",
    "nltk.download('punkt') # one time execution\n",
    "import re"
   ]
  },
  {
   "cell_type": "markdown",
   "metadata": {},
   "source": [
    "## Need to download dataset\n",
    "\n",
    "<a>http://downloads.cs.stanford.edu/nlp/data/glove.6B.zip</a>"
   ]
  },
  {
   "cell_type": "code",
   "execution_count": 21,
   "metadata": {},
   "outputs": [],
   "source": [
    "\n",
    "word_embeddings = {}\n"
   ]
  },
  {
   "cell_type": "code",
   "execution_count": 22,
   "metadata": {},
   "outputs": [],
   "source": [
    "f = open('../glove.6B/glove.6B.100d.txt', encoding='utf-8')\n",
    "for line in f:\n",
    "    values = line.split()\n",
    "    word = values[0]\n",
    "    coefs = np.asarray(values[1:], dtype='float32')\n",
    "    word_embeddings[word] = coefs\n",
    "f.close()"
   ]
  },
  {
   "cell_type": "code",
   "execution_count": 23,
   "metadata": {},
   "outputs": [
    {
     "data": {
      "text/plain": [
       "400000"
      ]
     },
     "execution_count": 23,
     "metadata": {},
     "output_type": "execute_result"
    }
   ],
   "source": [
    "len(word_embeddings)"
   ]
  },
  {
   "cell_type": "code",
   "execution_count": null,
   "metadata": {},
   "outputs": [],
   "source": [
    "from keras.model import Sequential\n",
    "from keras import layers\n",
    "\n"
   ]
  }
 ],
 "metadata": {
  "kernelspec": {
   "display_name": "Python 3",
   "language": "python",
   "name": "python3"
  },
  "language_info": {
   "codemirror_mode": {
    "name": "ipython",
    "version": 3
   },
   "file_extension": ".py",
   "mimetype": "text/x-python",
   "name": "python",
   "nbconvert_exporter": "python",
   "pygments_lexer": "ipython3",
   "version": "3.6.7"
  }
 },
 "nbformat": 4,
 "nbformat_minor": 2
}
